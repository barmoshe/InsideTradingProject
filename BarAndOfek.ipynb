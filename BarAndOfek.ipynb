{
  "cells": [
    {
      "cell_type": "markdown",
      "metadata": {
        "id": "view-in-github",
        "colab_type": "text"
      },
      "source": [
        "<a href=\"https://colab.research.google.com/github/barmoshe/InsideTradingProject/blob/master/BarAndOfek.ipynb\" target=\"_parent\"><img src=\"https://colab.research.google.com/assets/colab-badge.svg\" alt=\"Open In Colab\"/></a>"
      ]
    },
    {
      "cell_type": "markdown",
      "source": [
        "LINKS TO ARTICLES \n",
        "\n",
        "1.  Buy Stock With Insiders: How To Track Insider Buying :  https://www.investopedia.com/articles/investing/040915/buy-stock-insiders-how-track-insider-buying.asp#:~:text=The%20SEC's%20Edgar%20database%20allows,use%20databases%20of%20insider%20buying.\n",
        "2.  Officers, Directors and 10% Shareholders : https://www.sec.gov/education/smallbusiness/goingpublic/officersanddirectors\n",
        "3.  The Insider Trading Anomaly: Recent Academic Studies : https://www.insidermonkey.com/blog/the-insider-trading-anomaly-recent-academic-studies-591/\n",
        "4.  Learn from Investing Legends for 2020 & Beyond : https://www.fidelity.com/bin-public/060_www_fidelity_com/documents/learning-center/Presentation_Investing%20legends.pdf"
      ],
      "metadata": {
        "id": "RT6uSu5aAPk_"
      }
    },
    {
      "cell_type": "markdown",
      "source": [
        "install Yahoo finance API "
      ],
      "metadata": {
        "id": "9hzS3Pa9DEOf"
      }
    },
    {
      "cell_type": "code",
      "source": [
        "!pip install yfinance"
      ],
      "metadata": {
        "id": "z-_7LEQ98pmB",
        "colab": {
          "base_uri": "https://localhost:8080/"
        },
        "outputId": "02ccc0d2-73e1-4f23-c8e2-6e33081948e2"
      },
      "execution_count": null,
      "outputs": [
        {
          "output_type": "stream",
          "name": "stdout",
          "text": [
            "Looking in indexes: https://pypi.org/simple, https://us-python.pkg.dev/colab-wheels/public/simple/\n",
            "Requirement already satisfied: yfinance in /usr/local/lib/python3.8/dist-packages (0.2.3)\n",
            "Requirement already satisfied: html5lib>=1.1 in /usr/local/lib/python3.8/dist-packages (from yfinance) (1.1)\n",
            "Requirement already satisfied: numpy>=1.16.5 in /usr/local/lib/python3.8/dist-packages (from yfinance) (1.21.6)\n",
            "Requirement already satisfied: frozendict>=2.3.4 in /usr/local/lib/python3.8/dist-packages (from yfinance) (2.3.4)\n",
            "Requirement already satisfied: multitasking>=0.0.7 in /usr/local/lib/python3.8/dist-packages (from yfinance) (0.0.11)\n",
            "Requirement already satisfied: appdirs>=1.4.4 in /usr/local/lib/python3.8/dist-packages (from yfinance) (1.4.4)\n",
            "Requirement already satisfied: cryptography>=3.3.2 in /usr/local/lib/python3.8/dist-packages (from yfinance) (38.0.4)\n",
            "Requirement already satisfied: lxml>=4.9.1 in /usr/local/lib/python3.8/dist-packages (from yfinance) (4.9.2)\n",
            "Requirement already satisfied: pytz>=2022.5 in /usr/local/lib/python3.8/dist-packages (from yfinance) (2022.6)\n",
            "Requirement already satisfied: beautifulsoup4>=4.11.1 in /usr/local/lib/python3.8/dist-packages (from yfinance) (4.11.1)\n",
            "Requirement already satisfied: requests>=2.26 in /usr/local/lib/python3.8/dist-packages (from yfinance) (2.28.1)\n",
            "Requirement already satisfied: pandas>=1.3.0 in /usr/local/lib/python3.8/dist-packages (from yfinance) (1.3.5)\n",
            "Requirement already satisfied: soupsieve>1.2 in /usr/local/lib/python3.8/dist-packages (from beautifulsoup4>=4.11.1->yfinance) (2.3.2.post1)\n",
            "Requirement already satisfied: cffi>=1.12 in /usr/local/lib/python3.8/dist-packages (from cryptography>=3.3.2->yfinance) (1.15.1)\n",
            "Requirement already satisfied: pycparser in /usr/local/lib/python3.8/dist-packages (from cffi>=1.12->cryptography>=3.3.2->yfinance) (2.21)\n",
            "Requirement already satisfied: six>=1.9 in /usr/local/lib/python3.8/dist-packages (from html5lib>=1.1->yfinance) (1.15.0)\n",
            "Requirement already satisfied: webencodings in /usr/local/lib/python3.8/dist-packages (from html5lib>=1.1->yfinance) (0.5.1)\n",
            "Requirement already satisfied: python-dateutil>=2.7.3 in /usr/local/lib/python3.8/dist-packages (from pandas>=1.3.0->yfinance) (2.8.2)\n",
            "Requirement already satisfied: certifi>=2017.4.17 in /usr/local/lib/python3.8/dist-packages (from requests>=2.26->yfinance) (2022.12.7)\n",
            "Requirement already satisfied: idna<4,>=2.5 in /usr/local/lib/python3.8/dist-packages (from requests>=2.26->yfinance) (2.10)\n",
            "Requirement already satisfied: charset-normalizer<3,>=2 in /usr/local/lib/python3.8/dist-packages (from requests>=2.26->yfinance) (2.1.1)\n",
            "Requirement already satisfied: urllib3<1.27,>=1.21.1 in /usr/local/lib/python3.8/dist-packages (from requests>=2.26->yfinance) (1.24.3)\n"
          ]
        }
      ]
    },
    {
      "cell_type": "markdown",
      "metadata": {
        "id": "dR4C2m-9jp47"
      },
      "source": [
        "imports to our program:"
      ]
    },
    {
      "cell_type": "code",
      "execution_count": null,
      "metadata": {
        "id": "y7gqwqyy1kaK"
      },
      "outputs": [],
      "source": [
        "import pandas as pd\n",
        "import sklearn as sk\n",
        "import yfinance as yf\n",
        "from datetime import datetime, timedelta\n",
        "\n"
      ]
    },
    {
      "cell_type": "markdown",
      "metadata": {
        "id": "iNXgvUZ0jkVu"
      },
      "source": [
        "upload file from your computer(dont use !!) : \n"
      ]
    },
    {
      "cell_type": "code",
      "execution_count": null,
      "metadata": {
        "id": "0s5qGgB0eSn0"
      },
      "outputs": [],
      "source": [
        " #from google.colab import files\n",
        "#uploaded = files.upload()"
      ]
    },
    {
      "cell_type": "markdown",
      "source": [
        "added my google drive\n",
        "\n"
      ],
      "metadata": {
        "id": "r0Li0H9pZy0G"
      }
    },
    {
      "cell_type": "code",
      "source": [
        "from google.colab import drive\n",
        "drive.mount('/content/drive')"
      ],
      "metadata": {
        "id": "njFzjpq4UaYD",
        "colab": {
          "base_uri": "https://localhost:8080/"
        },
        "outputId": "48848d25-f5cb-48e7-e00c-8ecd3f28ce7e"
      },
      "execution_count": null,
      "outputs": [
        {
          "output_type": "stream",
          "name": "stdout",
          "text": [
            "Drive already mounted at /content/drive; to attempt to forcibly remount, call drive.mount(\"/content/drive\", force_remount=True).\n"
          ]
        }
      ]
    },
    {
      "cell_type": "markdown",
      "source": [
        "add cvs from my drive\n"
      ],
      "metadata": {
        "id": "3DWait8_aFmI"
      }
    },
    {
      "cell_type": "code",
      "execution_count": 39,
      "metadata": {
        "id": "bTb22UWlhph1",
        "colab": {
          "base_uri": "https://localhost:8080/"
        },
        "outputId": "cb2dcd06-3835-473e-b7b8-eacf281743df"
      },
      "outputs": [
        {
          "output_type": "stream",
          "name": "stderr",
          "text": [
            "/usr/local/lib/python3.8/dist-packages/IPython/core/interactiveshell.py:3326: DtypeWarning: Columns (3,4,5,6,7,8,9,10,11,12,13,14,15,16,17,18,19,20,21,22,23,24,25,26,27,28,29,30,31) have mixed types.Specify dtype option on import or set low_memory=False.\n",
            "  exec(code_obj, self.user_global_ns, self.user_ns)\n"
          ]
        }
      ],
      "source": [
        "insiders_data_small = pd.read_csv('/content/drive/MyDrive/colab/small_sample.csv')\n",
        "insiders_data = pd.read_csv('/content/drive/MyDrive/colab/all_insiders_after_split_fix.csv')"
      ]
    },
    {
      "cell_type": "markdown",
      "source": [
        "\n",
        "A\tAmended filing\n",
        "\n",
        "D\tDerivative transaction in filing (usually option exercise)\n",
        "\n",
        "E\tError detected in filing\n",
        "\n",
        "M\tMultiple transactions in filing; earliest reported transaction date and weighted average transaction price\n"
      ],
      "metadata": {
        "id": "XI90zeAi-bfc"
      }
    },
    {
      "cell_type": "markdown",
      "source": [
        "Show preview of the dataframe : "
      ],
      "metadata": {
        "id": "PkGeQenyaPaa"
      }
    },
    {
      "cell_type": "code",
      "source": [
        "insiders_data"
      ],
      "metadata": {
        "id": "rsvyrvbhaOjP",
        "colab": {
          "base_uri": "https://localhost:8080/",
          "height": 1120
        },
        "outputId": "34029639-169b-4ad1-e32d-44e1941bfff5"
      },
      "execution_count": 67,
      "outputs": [
        {
          "output_type": "execute_result",
          "data": {
            "text/plain": [
              "             Filing Date       Ticker          Insider Name        Title  \\\n",
              "0       17/06/2021 12:13            A  Ancher-Jensen Henrik            6   \n",
              "1       26/03/2009 13:10            A    Aspect Capital Ltd            2   \n",
              "2       14/04/2009 10:32            A    Aspect Capital Ltd            2   \n",
              "3       16/06/2004 13:06            A     Barnholt Edward W           10   \n",
              "4       25/08/2005 16:50            A     Barnholt Edward W            4   \n",
              "...                  ...          ...                   ...          ...   \n",
              "637693  28/04/2020 18:00         ZYXI      Sandgaard Thomas           10   \n",
              "637694  01/05/2020 18:32         ZYXI      Sandgaard Thomas           10   \n",
              "637695  16/07/2020 18:33         ZYXI      Sandgaard Thomas           10   \n",
              "637696  10/08/2021 18:39         ZYXI      Sandgaard Thomas           10   \n",
              "637697       OpenInsider  OpenInsider           OpenInsider  OpenInsider   \n",
              "\n",
              "         Trade Type        Price          Qty        Owned         ΔOwn  \\\n",
              "0                 0       143.66     -43731.0      76902.0        -0.36   \n",
              "1                 0     91.11588   -10975.698    58941.078        -0.16   \n",
              "2                 0       62.421   -11459.406    47481.672        -0.19   \n",
              "3                 0    18.648069   -121283.49    78283.806        -0.61   \n",
              "4                 0    21.459227   -72770.094    79265.202        -0.48   \n",
              "...             ...          ...          ...          ...          ...   \n",
              "637693            0        15.77       -75143     13982000        -0.01   \n",
              "637694            0         17.1       -50000     13932000            0   \n",
              "637695            0           22     -1250000     12682000        -0.09   \n",
              "637696            0        15.17      -177320     13617420        -0.01   \n",
              "637697  OpenInsider  OpenInsider  OpenInsider  OpenInsider  OpenInsider   \n",
              "\n",
              "              Value  ...     M     D  Year Month   Day Weekday DiffToStart  \\\n",
              "0        -6282527.0  ...     0     1  2021     6    17       3        7882   \n",
              "1        -1000000.0  ...     0     0  2009     3    26       3        3416   \n",
              "2      -715307.5823  ...     0     0  2009     4    14       1        3435   \n",
              "3        -2261703.0  ...     0     1  2004     6    16       2        1672   \n",
              "4        -1561590.0  ...     0     1  2005     8    25       3        2107   \n",
              "...             ...  ...   ...   ...   ...   ...   ...     ...         ...   \n",
              "637693     -1184990  ...     1     0  2020     4    28       1        5907   \n",
              "637694      -855055  ...     0     0  2020     5     1       4        5910   \n",
              "637695    -27500000  ...     0     0  2020     7    16       3        5986   \n",
              "637696     -2689820  ...     0     0  2021     8    10       1        6376   \n",
              "637697  OpenInsider  ...  Code  Code  Code  Code  Code    Code        Code   \n",
              "\n",
              "          sharpRatio         Y aggression  \n",
              "0          -0.173562  0.001685        0.0  \n",
              "1          -5.105017 -0.009347        0.0  \n",
              "2           0.441024 -0.012411        0.0  \n",
              "3           0.057536 -0.001437        0.0  \n",
              "4           0.492139  0.001437        0.0  \n",
              "...              ...       ...        ...  \n",
              "637693    2.49892795       NaN        NaN  \n",
              "637694    3.05436918       NaN        NaN  \n",
              "637695  -1.021126667       NaN        NaN  \n",
              "637696  -0.600463066       NaN        NaN  \n",
              "637697         Yahoo       NaN        NaN  \n",
              "\n",
              "[637698 rows x 34 columns]"
            ],
            "text/html": [
              "\n",
              "  <div id=\"df-040edcdb-f535-4632-bb8e-a0095b2155c2\">\n",
              "    <div class=\"colab-df-container\">\n",
              "      <div>\n",
              "<style scoped>\n",
              "    .dataframe tbody tr th:only-of-type {\n",
              "        vertical-align: middle;\n",
              "    }\n",
              "\n",
              "    .dataframe tbody tr th {\n",
              "        vertical-align: top;\n",
              "    }\n",
              "\n",
              "    .dataframe thead th {\n",
              "        text-align: right;\n",
              "    }\n",
              "</style>\n",
              "<table border=\"1\" class=\"dataframe\">\n",
              "  <thead>\n",
              "    <tr style=\"text-align: right;\">\n",
              "      <th></th>\n",
              "      <th>Filing Date</th>\n",
              "      <th>Ticker</th>\n",
              "      <th>Insider Name</th>\n",
              "      <th>Title</th>\n",
              "      <th>Trade Type</th>\n",
              "      <th>Price</th>\n",
              "      <th>Qty</th>\n",
              "      <th>Owned</th>\n",
              "      <th>ΔOwn</th>\n",
              "      <th>Value</th>\n",
              "      <th>...</th>\n",
              "      <th>M</th>\n",
              "      <th>D</th>\n",
              "      <th>Year</th>\n",
              "      <th>Month</th>\n",
              "      <th>Day</th>\n",
              "      <th>Weekday</th>\n",
              "      <th>DiffToStart</th>\n",
              "      <th>sharpRatio</th>\n",
              "      <th>Y</th>\n",
              "      <th>aggression</th>\n",
              "    </tr>\n",
              "  </thead>\n",
              "  <tbody>\n",
              "    <tr>\n",
              "      <th>0</th>\n",
              "      <td>17/06/2021 12:13</td>\n",
              "      <td>A</td>\n",
              "      <td>Ancher-Jensen Henrik</td>\n",
              "      <td>6</td>\n",
              "      <td>0</td>\n",
              "      <td>143.66</td>\n",
              "      <td>-43731.0</td>\n",
              "      <td>76902.0</td>\n",
              "      <td>-0.36</td>\n",
              "      <td>-6282527.0</td>\n",
              "      <td>...</td>\n",
              "      <td>0</td>\n",
              "      <td>1</td>\n",
              "      <td>2021</td>\n",
              "      <td>6</td>\n",
              "      <td>17</td>\n",
              "      <td>3</td>\n",
              "      <td>7882</td>\n",
              "      <td>-0.173562</td>\n",
              "      <td>0.001685</td>\n",
              "      <td>0.0</td>\n",
              "    </tr>\n",
              "    <tr>\n",
              "      <th>1</th>\n",
              "      <td>26/03/2009 13:10</td>\n",
              "      <td>A</td>\n",
              "      <td>Aspect Capital Ltd</td>\n",
              "      <td>2</td>\n",
              "      <td>0</td>\n",
              "      <td>91.11588</td>\n",
              "      <td>-10975.698</td>\n",
              "      <td>58941.078</td>\n",
              "      <td>-0.16</td>\n",
              "      <td>-1000000.0</td>\n",
              "      <td>...</td>\n",
              "      <td>0</td>\n",
              "      <td>0</td>\n",
              "      <td>2009</td>\n",
              "      <td>3</td>\n",
              "      <td>26</td>\n",
              "      <td>3</td>\n",
              "      <td>3416</td>\n",
              "      <td>-5.105017</td>\n",
              "      <td>-0.009347</td>\n",
              "      <td>0.0</td>\n",
              "    </tr>\n",
              "    <tr>\n",
              "      <th>2</th>\n",
              "      <td>14/04/2009 10:32</td>\n",
              "      <td>A</td>\n",
              "      <td>Aspect Capital Ltd</td>\n",
              "      <td>2</td>\n",
              "      <td>0</td>\n",
              "      <td>62.421</td>\n",
              "      <td>-11459.406</td>\n",
              "      <td>47481.672</td>\n",
              "      <td>-0.19</td>\n",
              "      <td>-715307.5823</td>\n",
              "      <td>...</td>\n",
              "      <td>0</td>\n",
              "      <td>0</td>\n",
              "      <td>2009</td>\n",
              "      <td>4</td>\n",
              "      <td>14</td>\n",
              "      <td>1</td>\n",
              "      <td>3435</td>\n",
              "      <td>0.441024</td>\n",
              "      <td>-0.012411</td>\n",
              "      <td>0.0</td>\n",
              "    </tr>\n",
              "    <tr>\n",
              "      <th>3</th>\n",
              "      <td>16/06/2004 13:06</td>\n",
              "      <td>A</td>\n",
              "      <td>Barnholt Edward W</td>\n",
              "      <td>10</td>\n",
              "      <td>0</td>\n",
              "      <td>18.648069</td>\n",
              "      <td>-121283.49</td>\n",
              "      <td>78283.806</td>\n",
              "      <td>-0.61</td>\n",
              "      <td>-2261703.0</td>\n",
              "      <td>...</td>\n",
              "      <td>0</td>\n",
              "      <td>1</td>\n",
              "      <td>2004</td>\n",
              "      <td>6</td>\n",
              "      <td>16</td>\n",
              "      <td>2</td>\n",
              "      <td>1672</td>\n",
              "      <td>0.057536</td>\n",
              "      <td>-0.001437</td>\n",
              "      <td>0.0</td>\n",
              "    </tr>\n",
              "    <tr>\n",
              "      <th>4</th>\n",
              "      <td>25/08/2005 16:50</td>\n",
              "      <td>A</td>\n",
              "      <td>Barnholt Edward W</td>\n",
              "      <td>4</td>\n",
              "      <td>0</td>\n",
              "      <td>21.459227</td>\n",
              "      <td>-72770.094</td>\n",
              "      <td>79265.202</td>\n",
              "      <td>-0.48</td>\n",
              "      <td>-1561590.0</td>\n",
              "      <td>...</td>\n",
              "      <td>0</td>\n",
              "      <td>1</td>\n",
              "      <td>2005</td>\n",
              "      <td>8</td>\n",
              "      <td>25</td>\n",
              "      <td>3</td>\n",
              "      <td>2107</td>\n",
              "      <td>0.492139</td>\n",
              "      <td>0.001437</td>\n",
              "      <td>0.0</td>\n",
              "    </tr>\n",
              "    <tr>\n",
              "      <th>...</th>\n",
              "      <td>...</td>\n",
              "      <td>...</td>\n",
              "      <td>...</td>\n",
              "      <td>...</td>\n",
              "      <td>...</td>\n",
              "      <td>...</td>\n",
              "      <td>...</td>\n",
              "      <td>...</td>\n",
              "      <td>...</td>\n",
              "      <td>...</td>\n",
              "      <td>...</td>\n",
              "      <td>...</td>\n",
              "      <td>...</td>\n",
              "      <td>...</td>\n",
              "      <td>...</td>\n",
              "      <td>...</td>\n",
              "      <td>...</td>\n",
              "      <td>...</td>\n",
              "      <td>...</td>\n",
              "      <td>...</td>\n",
              "      <td>...</td>\n",
              "    </tr>\n",
              "    <tr>\n",
              "      <th>637693</th>\n",
              "      <td>28/04/2020 18:00</td>\n",
              "      <td>ZYXI</td>\n",
              "      <td>Sandgaard Thomas</td>\n",
              "      <td>10</td>\n",
              "      <td>0</td>\n",
              "      <td>15.77</td>\n",
              "      <td>-75143</td>\n",
              "      <td>13982000</td>\n",
              "      <td>-0.01</td>\n",
              "      <td>-1184990</td>\n",
              "      <td>...</td>\n",
              "      <td>1</td>\n",
              "      <td>0</td>\n",
              "      <td>2020</td>\n",
              "      <td>4</td>\n",
              "      <td>28</td>\n",
              "      <td>1</td>\n",
              "      <td>5907</td>\n",
              "      <td>2.49892795</td>\n",
              "      <td>NaN</td>\n",
              "      <td>NaN</td>\n",
              "    </tr>\n",
              "    <tr>\n",
              "      <th>637694</th>\n",
              "      <td>01/05/2020 18:32</td>\n",
              "      <td>ZYXI</td>\n",
              "      <td>Sandgaard Thomas</td>\n",
              "      <td>10</td>\n",
              "      <td>0</td>\n",
              "      <td>17.1</td>\n",
              "      <td>-50000</td>\n",
              "      <td>13932000</td>\n",
              "      <td>0</td>\n",
              "      <td>-855055</td>\n",
              "      <td>...</td>\n",
              "      <td>0</td>\n",
              "      <td>0</td>\n",
              "      <td>2020</td>\n",
              "      <td>5</td>\n",
              "      <td>1</td>\n",
              "      <td>4</td>\n",
              "      <td>5910</td>\n",
              "      <td>3.05436918</td>\n",
              "      <td>NaN</td>\n",
              "      <td>NaN</td>\n",
              "    </tr>\n",
              "    <tr>\n",
              "      <th>637695</th>\n",
              "      <td>16/07/2020 18:33</td>\n",
              "      <td>ZYXI</td>\n",
              "      <td>Sandgaard Thomas</td>\n",
              "      <td>10</td>\n",
              "      <td>0</td>\n",
              "      <td>22</td>\n",
              "      <td>-1250000</td>\n",
              "      <td>12682000</td>\n",
              "      <td>-0.09</td>\n",
              "      <td>-27500000</td>\n",
              "      <td>...</td>\n",
              "      <td>0</td>\n",
              "      <td>0</td>\n",
              "      <td>2020</td>\n",
              "      <td>7</td>\n",
              "      <td>16</td>\n",
              "      <td>3</td>\n",
              "      <td>5986</td>\n",
              "      <td>-1.021126667</td>\n",
              "      <td>NaN</td>\n",
              "      <td>NaN</td>\n",
              "    </tr>\n",
              "    <tr>\n",
              "      <th>637696</th>\n",
              "      <td>10/08/2021 18:39</td>\n",
              "      <td>ZYXI</td>\n",
              "      <td>Sandgaard Thomas</td>\n",
              "      <td>10</td>\n",
              "      <td>0</td>\n",
              "      <td>15.17</td>\n",
              "      <td>-177320</td>\n",
              "      <td>13617420</td>\n",
              "      <td>-0.01</td>\n",
              "      <td>-2689820</td>\n",
              "      <td>...</td>\n",
              "      <td>0</td>\n",
              "      <td>0</td>\n",
              "      <td>2021</td>\n",
              "      <td>8</td>\n",
              "      <td>10</td>\n",
              "      <td>1</td>\n",
              "      <td>6376</td>\n",
              "      <td>-0.600463066</td>\n",
              "      <td>NaN</td>\n",
              "      <td>NaN</td>\n",
              "    </tr>\n",
              "    <tr>\n",
              "      <th>637697</th>\n",
              "      <td>OpenInsider</td>\n",
              "      <td>OpenInsider</td>\n",
              "      <td>OpenInsider</td>\n",
              "      <td>OpenInsider</td>\n",
              "      <td>OpenInsider</td>\n",
              "      <td>OpenInsider</td>\n",
              "      <td>OpenInsider</td>\n",
              "      <td>OpenInsider</td>\n",
              "      <td>OpenInsider</td>\n",
              "      <td>OpenInsider</td>\n",
              "      <td>...</td>\n",
              "      <td>Code</td>\n",
              "      <td>Code</td>\n",
              "      <td>Code</td>\n",
              "      <td>Code</td>\n",
              "      <td>Code</td>\n",
              "      <td>Code</td>\n",
              "      <td>Code</td>\n",
              "      <td>Yahoo</td>\n",
              "      <td>NaN</td>\n",
              "      <td>NaN</td>\n",
              "    </tr>\n",
              "  </tbody>\n",
              "</table>\n",
              "<p>637698 rows × 34 columns</p>\n",
              "</div>\n",
              "      <button class=\"colab-df-convert\" onclick=\"convertToInteractive('df-040edcdb-f535-4632-bb8e-a0095b2155c2')\"\n",
              "              title=\"Convert this dataframe to an interactive table.\"\n",
              "              style=\"display:none;\">\n",
              "        \n",
              "  <svg xmlns=\"http://www.w3.org/2000/svg\" height=\"24px\"viewBox=\"0 0 24 24\"\n",
              "       width=\"24px\">\n",
              "    <path d=\"M0 0h24v24H0V0z\" fill=\"none\"/>\n",
              "    <path d=\"M18.56 5.44l.94 2.06.94-2.06 2.06-.94-2.06-.94-.94-2.06-.94 2.06-2.06.94zm-11 1L8.5 8.5l.94-2.06 2.06-.94-2.06-.94L8.5 2.5l-.94 2.06-2.06.94zm10 10l.94 2.06.94-2.06 2.06-.94-2.06-.94-.94-2.06-.94 2.06-2.06.94z\"/><path d=\"M17.41 7.96l-1.37-1.37c-.4-.4-.92-.59-1.43-.59-.52 0-1.04.2-1.43.59L10.3 9.45l-7.72 7.72c-.78.78-.78 2.05 0 2.83L4 21.41c.39.39.9.59 1.41.59.51 0 1.02-.2 1.41-.59l7.78-7.78 2.81-2.81c.8-.78.8-2.07 0-2.86zM5.41 20L4 18.59l7.72-7.72 1.47 1.35L5.41 20z\"/>\n",
              "  </svg>\n",
              "      </button>\n",
              "      \n",
              "  <style>\n",
              "    .colab-df-container {\n",
              "      display:flex;\n",
              "      flex-wrap:wrap;\n",
              "      gap: 12px;\n",
              "    }\n",
              "\n",
              "    .colab-df-convert {\n",
              "      background-color: #E8F0FE;\n",
              "      border: none;\n",
              "      border-radius: 50%;\n",
              "      cursor: pointer;\n",
              "      display: none;\n",
              "      fill: #1967D2;\n",
              "      height: 32px;\n",
              "      padding: 0 0 0 0;\n",
              "      width: 32px;\n",
              "    }\n",
              "\n",
              "    .colab-df-convert:hover {\n",
              "      background-color: #E2EBFA;\n",
              "      box-shadow: 0px 1px 2px rgba(60, 64, 67, 0.3), 0px 1px 3px 1px rgba(60, 64, 67, 0.15);\n",
              "      fill: #174EA6;\n",
              "    }\n",
              "\n",
              "    [theme=dark] .colab-df-convert {\n",
              "      background-color: #3B4455;\n",
              "      fill: #D2E3FC;\n",
              "    }\n",
              "\n",
              "    [theme=dark] .colab-df-convert:hover {\n",
              "      background-color: #434B5C;\n",
              "      box-shadow: 0px 1px 3px 1px rgba(0, 0, 0, 0.15);\n",
              "      filter: drop-shadow(0px 1px 2px rgba(0, 0, 0, 0.3));\n",
              "      fill: #FFFFFF;\n",
              "    }\n",
              "  </style>\n",
              "\n",
              "      <script>\n",
              "        const buttonEl =\n",
              "          document.querySelector('#df-040edcdb-f535-4632-bb8e-a0095b2155c2 button.colab-df-convert');\n",
              "        buttonEl.style.display =\n",
              "          google.colab.kernel.accessAllowed ? 'block' : 'none';\n",
              "\n",
              "        async function convertToInteractive(key) {\n",
              "          const element = document.querySelector('#df-040edcdb-f535-4632-bb8e-a0095b2155c2');\n",
              "          const dataTable =\n",
              "            await google.colab.kernel.invokeFunction('convertToInteractive',\n",
              "                                                     [key], {});\n",
              "          if (!dataTable) return;\n",
              "\n",
              "          const docLinkHtml = 'Like what you see? Visit the ' +\n",
              "            '<a target=\"_blank\" href=https://colab.research.google.com/notebooks/data_table.ipynb>data table notebook</a>'\n",
              "            + ' to learn more about interactive tables.';\n",
              "          element.innerHTML = '';\n",
              "          dataTable['output_type'] = 'display_data';\n",
              "          await google.colab.output.renderOutput(dataTable, element);\n",
              "          const docLink = document.createElement('div');\n",
              "          docLink.innerHTML = docLinkHtml;\n",
              "          element.appendChild(docLink);\n",
              "        }\n",
              "      </script>\n",
              "    </div>\n",
              "  </div>\n",
              "  "
            ]
          },
          "metadata": {},
          "execution_count": 67
        },
        {
          "output_type": "stream",
          "name": "stdout",
          "text": [
            "Warning: Total number of columns (34) exceeds max_columns (20) limiting to first (20) columns.\n",
            "Warning: total number of rows (637698) exceeds max_rows (20000). Limiting to first (20000) rows.\n"
          ]
        }
      ]
    },
    {
      "cell_type": "markdown",
      "metadata": {
        "id": "wo4wX50yjXYX"
      },
      "source": [
        " Dataset is now stored in a Pandas Dataframe\n",
        " "
      ]
    },
    {
      "cell_type": "markdown",
      "source": [
        "example to get all rows with specified value : \n",
        "same as \n",
        "```\n",
        "SELECT *\n",
        "FROM insiders_data\n",
        "WHERE 'Ticker' = 'ABMD'\n",
        "```"
      ],
      "metadata": {
        "id": "6DGdFXpr8fVd"
      }
    },
    {
      "cell_type": "code",
      "source": [
        "insiders_data.loc[insiders_data['Ticker'] =='A']"
      ],
      "metadata": {
        "id": "3ZdZ9nub7Qt1"
      },
      "execution_count": null,
      "outputs": []
    },
    {
      "cell_type": "markdown",
      "source": [
        "simple example to use Yahoo :"
      ],
      "metadata": {
        "id": "k9XhAxwQDUV-"
      }
    },
    {
      "cell_type": "code",
      "source": [
        "ticker = yf.Ticker('BILL')\n",
        "ticker.info"
      ],
      "metadata": {
        "id": "Xd6Cx5LADaI6"
      },
      "execution_count": null,
      "outputs": []
    },
    {
      "cell_type": "markdown",
      "source": [
        "example of actions func returns the Dividends"
      ],
      "metadata": {
        "id": "zQMuG-RFE2yT"
      }
    },
    {
      "cell_type": "code",
      "source": [
        "ticker.actions"
      ],
      "metadata": {
        "id": "CnM5aY2cEgcy",
        "colab": {
          "base_uri": "https://localhost:8080/",
          "height": 81
        },
        "outputId": "cd37bc57-4e62-4f2f-9bb4-648d6b866ccd"
      },
      "execution_count": null,
      "outputs": [
        {
          "output_type": "execute_result",
          "data": {
            "text/plain": [
              "Empty DataFrame\n",
              "Columns: [Dividends, Stock Splits]\n",
              "Index: []"
            ],
            "text/html": [
              "\n",
              "  <div id=\"df-409a336d-9731-4c1e-85f8-9f2a8e26a7f6\">\n",
              "    <div class=\"colab-df-container\">\n",
              "      <div>\n",
              "<style scoped>\n",
              "    .dataframe tbody tr th:only-of-type {\n",
              "        vertical-align: middle;\n",
              "    }\n",
              "\n",
              "    .dataframe tbody tr th {\n",
              "        vertical-align: top;\n",
              "    }\n",
              "\n",
              "    .dataframe thead th {\n",
              "        text-align: right;\n",
              "    }\n",
              "</style>\n",
              "<table border=\"1\" class=\"dataframe\">\n",
              "  <thead>\n",
              "    <tr style=\"text-align: right;\">\n",
              "      <th></th>\n",
              "      <th>Dividends</th>\n",
              "      <th>Stock Splits</th>\n",
              "    </tr>\n",
              "    <tr>\n",
              "      <th>Date</th>\n",
              "      <th></th>\n",
              "      <th></th>\n",
              "    </tr>\n",
              "  </thead>\n",
              "  <tbody>\n",
              "  </tbody>\n",
              "</table>\n",
              "</div>\n",
              "      <button class=\"colab-df-convert\" onclick=\"convertToInteractive('df-409a336d-9731-4c1e-85f8-9f2a8e26a7f6')\"\n",
              "              title=\"Convert this dataframe to an interactive table.\"\n",
              "              style=\"display:none;\">\n",
              "        \n",
              "  <svg xmlns=\"http://www.w3.org/2000/svg\" height=\"24px\"viewBox=\"0 0 24 24\"\n",
              "       width=\"24px\">\n",
              "    <path d=\"M0 0h24v24H0V0z\" fill=\"none\"/>\n",
              "    <path d=\"M18.56 5.44l.94 2.06.94-2.06 2.06-.94-2.06-.94-.94-2.06-.94 2.06-2.06.94zm-11 1L8.5 8.5l.94-2.06 2.06-.94-2.06-.94L8.5 2.5l-.94 2.06-2.06.94zm10 10l.94 2.06.94-2.06 2.06-.94-2.06-.94-.94-2.06-.94 2.06-2.06.94z\"/><path d=\"M17.41 7.96l-1.37-1.37c-.4-.4-.92-.59-1.43-.59-.52 0-1.04.2-1.43.59L10.3 9.45l-7.72 7.72c-.78.78-.78 2.05 0 2.83L4 21.41c.39.39.9.59 1.41.59.51 0 1.02-.2 1.41-.59l7.78-7.78 2.81-2.81c.8-.78.8-2.07 0-2.86zM5.41 20L4 18.59l7.72-7.72 1.47 1.35L5.41 20z\"/>\n",
              "  </svg>\n",
              "      </button>\n",
              "      \n",
              "  <style>\n",
              "    .colab-df-container {\n",
              "      display:flex;\n",
              "      flex-wrap:wrap;\n",
              "      gap: 12px;\n",
              "    }\n",
              "\n",
              "    .colab-df-convert {\n",
              "      background-color: #E8F0FE;\n",
              "      border: none;\n",
              "      border-radius: 50%;\n",
              "      cursor: pointer;\n",
              "      display: none;\n",
              "      fill: #1967D2;\n",
              "      height: 32px;\n",
              "      padding: 0 0 0 0;\n",
              "      width: 32px;\n",
              "    }\n",
              "\n",
              "    .colab-df-convert:hover {\n",
              "      background-color: #E2EBFA;\n",
              "      box-shadow: 0px 1px 2px rgba(60, 64, 67, 0.3), 0px 1px 3px 1px rgba(60, 64, 67, 0.15);\n",
              "      fill: #174EA6;\n",
              "    }\n",
              "\n",
              "    [theme=dark] .colab-df-convert {\n",
              "      background-color: #3B4455;\n",
              "      fill: #D2E3FC;\n",
              "    }\n",
              "\n",
              "    [theme=dark] .colab-df-convert:hover {\n",
              "      background-color: #434B5C;\n",
              "      box-shadow: 0px 1px 3px 1px rgba(0, 0, 0, 0.15);\n",
              "      filter: drop-shadow(0px 1px 2px rgba(0, 0, 0, 0.3));\n",
              "      fill: #FFFFFF;\n",
              "    }\n",
              "  </style>\n",
              "\n",
              "      <script>\n",
              "        const buttonEl =\n",
              "          document.querySelector('#df-409a336d-9731-4c1e-85f8-9f2a8e26a7f6 button.colab-df-convert');\n",
              "        buttonEl.style.display =\n",
              "          google.colab.kernel.accessAllowed ? 'block' : 'none';\n",
              "\n",
              "        async function convertToInteractive(key) {\n",
              "          const element = document.querySelector('#df-409a336d-9731-4c1e-85f8-9f2a8e26a7f6');\n",
              "          const dataTable =\n",
              "            await google.colab.kernel.invokeFunction('convertToInteractive',\n",
              "                                                     [key], {});\n",
              "          if (!dataTable) return;\n",
              "\n",
              "          const docLinkHtml = 'Like what you see? Visit the ' +\n",
              "            '<a target=\"_blank\" href=https://colab.research.google.com/notebooks/data_table.ipynb>data table notebook</a>'\n",
              "            + ' to learn more about interactive tables.';\n",
              "          element.innerHTML = '';\n",
              "          dataTable['output_type'] = 'display_data';\n",
              "          await google.colab.output.renderOutput(dataTable, element);\n",
              "          const docLink = document.createElement('div');\n",
              "          docLink.innerHTML = docLinkHtml;\n",
              "          element.appendChild(docLink);\n",
              "        }\n",
              "      </script>\n",
              "    </div>\n",
              "  </div>\n",
              "  "
            ]
          },
          "metadata": {},
          "execution_count": 31
        }
      ]
    },
    {
      "cell_type": "code",
      "source": [
        "def get_next_month_obj(row):\n",
        "  current = datetime(row['Year'],row['Month'],row['Day'])\n",
        "  next_30days=current+timedelta(days=30)\n",
        "  return next_30days\n",
        "def create_datetime_obj(row):\n",
        "   return(datetime(row['Year'],row['Month'],row['Day']))\n",
        "\n"
      ],
      "metadata": {
        "id": "f7D9avInDC7O"
      },
      "execution_count": 78,
      "outputs": []
    },
    {
      "cell_type": "markdown",
      "source": [
        "get te relative max and min "
      ],
      "metadata": {
        "id": "rhB_BQ3kVodZ"
      }
    },
    {
      "cell_type": "code",
      "source": [
        "def get_relative_max(row):#TICKER=A--> row['Ticker']=='A'\n",
        "  current_ticker = yf.Ticker(row['Ticker'])\n",
        "  historical = current_ticker.history(start=create_datetime_obj(row)-timedelta(days=5),end=get_next_month_obj(row), interval=\"1d\")\n",
        "  max=historical['High'].max();\n",
        "  x=(max-row[\"Price\"])/row['Price']\n",
        "  print(\"price=\"+str(row[\"Price\"]))\n",
        "  print(\"max=\"+str(max))\n",
        "  #print(x)\n",
        "  return x\n",
        "def get_relative_min(row):\n",
        "  current_ticker = yf.Ticker(row['Ticker'])\n",
        "  historical = current_ticker.history(start=create_datetime_obj(row)-timedelta(days=5) ,end=get_next_month_obj(row), interval=\"1d\")\n",
        "  min=historical['Low'].min();\n",
        "  x=(row[\"Price\"])-min/row['Price']\n",
        "  print(\"min=\"+str(min))\n",
        "\n",
        "  #print(x)\n",
        "  return x"
      ],
      "metadata": {
        "id": "k8pzZv42VoF9"
      },
      "execution_count": 133,
      "outputs": []
    },
    {
      "cell_type": "code",
      "source": [
        "print(insiders_data.iloc[0])"
      ],
      "metadata": {
        "id": "Z-bs2GodLvn8"
      },
      "execution_count": null,
      "outputs": []
    },
    {
      "cell_type": "code",
      "source": [
        "current_ticker = yf.Ticker('A')\n",
        "historical = current_ticker.history(start=create_datetime_obj(insiders_data.iloc[0]) ,end=get_next_month_obj(insiders_data.iloc[0]), interval=\"1d\")\n",
        "historical"
      ],
      "metadata": {
        "id": "4AQmd_i_LJsq"
      },
      "execution_count": null,
      "outputs": []
    },
    {
      "cell_type": "markdown",
      "source": [
        "here will be a function that gets row and return the data we need about that row from YAHOO to determine the Y ."
      ],
      "metadata": {
        "id": "lpSigBkxbyb0"
      }
    },
    {
      "cell_type": "code",
      "source": [
        "def get_row_Y(row):\n",
        "  y=1.0#calculate y here\n",
        "  relative_max=get_relative_max(row)\n",
        "  relative_min=get_relative_min(row)\n",
        "  y=relative_max/relative_min\n",
        "  #print(row)#for debug\n",
        "  return y\n",
        "  "
      ],
      "metadata": {
        "id": "in1GVof-bxtx"
      },
      "execution_count": 105,
      "outputs": []
    },
    {
      "cell_type": "markdown",
      "source": [
        "aggression calculate:"
      ],
      "metadata": {
        "id": "yRNCRSur7sD0"
      }
    },
    {
      "cell_type": "code",
      "source": [
        "def get_aggression(row): \n",
        "  aggresion =0\n",
        "  return aggresion"
      ],
      "metadata": {
        "id": "fUYOIAKF7rei"
      },
      "execution_count": 101,
      "outputs": []
    },
    {
      "cell_type": "markdown",
      "source": [
        "Itaration on the rows to detemine the Y value"
      ],
      "metadata": {
        "id": "PyJjN4AngEh3"
      }
    },
    {
      "cell_type": "code",
      "source": [
        "insiders_data_small['Y']=pd.to_numeric(insiders_data_small['Y'])\n",
        "for index, row in insiders_data_small.iterrows():\n",
        "  print(\"------\"+str(index)+\"------\")\n",
        "  if insiders_data_small.at[index,'D'] ==0:\n",
        "    insiders_data_small.at[index,'Y'] = float(get_row_Y(row))\n",
        "    print(insiders_data_small.at[index,'Y'])\n",
        "  else:\n",
        "    insiders_data_small.at[index,'Y']=1000000\n",
        "  print(\"------\"+\"------\")\n",
        "    #insiders_data_small.at[index,'aggression']=float(get_aggression(row))"
      ],
      "metadata": {
        "id": "cGFqueygYpsH",
        "colab": {
          "base_uri": "https://localhost:8080/"
        },
        "outputId": "0cb1faab-a316-48f9-af54-11234a232a86"
      },
      "execution_count": 137,
      "outputs": [
        {
          "output_type": "stream",
          "name": "stdout",
          "text": [
            "------0------\n",
            "price=120.99\n",
            "max=146.85000610351562\n",
            "min=106.01000213623047\n",
            "0.0017794516681751255\n",
            "------------\n",
            "------1------\n",
            "price=120.99\n",
            "max=146.85000610351562\n",
            "min=106.01000213623047\n",
            "0.0017794516681751255\n",
            "------------\n",
            "------2------\n",
            "price=120.99\n",
            "max=146.85000610351562\n",
            "min=106.01000213623047\n",
            "0.0017794516681751255\n",
            "------------\n",
            "------3------\n",
            "price=121.0\n",
            "max=146.85000610351562\n",
            "min=106.01000213623047\n",
            "0.0017784674160295152\n",
            "------------\n",
            "------4------\n",
            "------------\n",
            "------5------\n",
            "price=6.17\n",
            "max=6.420000076293945\n",
            "min=4.809999942779541\n",
            "0.007516787261870698\n",
            "------------\n",
            "------6------\n",
            "price=98.01\n",
            "max=102.19000244140625\n",
            "min=64.80999755859375\n",
            "0.00043810257636934754\n",
            "------------\n",
            "------7------\n",
            "price=98.01\n",
            "max=102.19000244140625\n",
            "min=64.80999755859375\n",
            "0.00043810257636934754\n",
            "------------\n",
            "------8------\n",
            "price=1.19\n",
            "max=1.8700000047683716\n",
            "min=1.100000023841858\n",
            "2.1512181463378974\n",
            "------------\n",
            "------9------\n",
            "price=98.01\n",
            "max=102.19000244140625\n",
            "min=64.80999755859375\n",
            "0.00043810257636934754\n",
            "------------\n",
            "------10------\n",
            "------------\n",
            "------11------\n",
            "price=80.06\n",
            "max=100.0\n",
            "min=72.37000274658203\n",
            "0.0031464833501864396\n",
            "------------\n",
            "------12------\n",
            "------------\n",
            "------13------\n",
            "price=20.79\n",
            "max=21.420000076293945\n",
            "min=20.0\n",
            "0.0015282951100965378\n",
            "------------\n",
            "------14------\n",
            "------------\n",
            "------15------\n",
            "price=314.71\n",
            "max=328.54998779296875\n",
            "min=274.29998779296875\n",
            "0.0001401261137883938\n",
            "------------\n",
            "------16------\n",
            "price=308.66\n",
            "max=328.54998779296875\n",
            "min=274.29998779296875\n",
            "0.00020937557527435583\n",
            "------------\n",
            "------17------\n",
            "price=303.65\n",
            "max=328.54998779296875\n",
            "min=274.29998779296875\n",
            "0.00027086100898834605\n",
            "------------\n",
            "------18------\n",
            "------------\n",
            "------19------\n",
            "------------\n"
          ]
        }
      ]
    },
    {
      "cell_type": "code",
      "source": [
        "insiders_data_small.iloc[4]"
      ],
      "metadata": {
        "id": "1XzjYv-HwfMd",
        "colab": {
          "base_uri": "https://localhost:8080/"
        },
        "outputId": "097a8572-036d-4653-8591-f78391964e91"
      },
      "execution_count": 139,
      "outputs": [
        {
          "output_type": "execute_result",
          "data": {
            "text/plain": [
              "Filing Date                   17/02/2022 20:18\n",
              "Ticker                                    PUBM\n",
              "Insider Name             Van Der Zweep Michael\n",
              "Title                                        4\n",
              "Trade Type                                   0\n",
              "Price                                    30.02\n",
              "Qty                                        -30\n",
              "Owned                                      124\n",
              "ΔOwn                                     -0.19\n",
              "Value                                     -901\n",
              "InsiderID                              1844595\n",
              "DiffDate                                     1\n",
              "2w_MFI                               79.195964\n",
              "mcclellan_osillator                      -5.99\n",
              "mcclellan_osillator_s                  -594.41\n",
              "Open                                 29.540001\n",
              "Close                                28.219999\n",
              "High                                 29.799999\n",
              "Low                                      27.99\n",
              "Volume                                  721500\n",
              "PriceCompared                         0.007383\n",
              "AmountTrades                                 7\n",
              "A                                            0\n",
              "E                                            0\n",
              "M                                            0\n",
              "D                                            1\n",
              "Year                                      2022\n",
              "Month                                        2\n",
              "Day                                         17\n",
              "Weekday                                      3\n",
              "DiffToStart                                435\n",
              "sharpRatio                           -2.338766\n",
              "aggression                                 0.0\n",
              "Y                                    1000000.0\n",
              "Name: 4, dtype: object"
            ]
          },
          "metadata": {},
          "execution_count": 139
        }
      ]
    },
    {
      "cell_type": "markdown",
      "source": [
        "**Tasks to do :**\n",
        "\n",
        "1.   determine the Y possible outcomes it could be sucsessful or unsuccessful transaction or it could be more complex then \"black and white\"\n",
        "in short : how do we measure sucsess of a transaction.\n",
        "2.   detrmine what data do we need to get from YAHOO \n",
        "3. to be continued...\n",
        "\n"
      ],
      "metadata": {
        "id": "HAhF4iso8Jav"
      }
    },
    {
      "cell_type": "markdown",
      "source": [
        "alldata code (do not usefor now)\n"
      ],
      "metadata": {
        "id": "PK3tkm72D656"
      }
    },
    {
      "cell_type": "code",
      "source": [
        "insiders_data['Y']=pd.to_numeric(insiders_data['Y'])\n",
        "for index, row in insiders_data.iterrows():\n",
        "    insiders_data.at[index,'Y'] = float(get_row_Y(row))\n",
        "    insiders_data.at[index,'aggression']=float(get_aggression(row))"
      ],
      "metadata": {
        "id": "46V44orgpAGF"
      },
      "execution_count": null,
      "outputs": []
    },
    {
      "cell_type": "code",
      "source": [
        "insiders_data_small.iloc[8]\n"
      ],
      "metadata": {
        "id": "aypJmrxtECHF",
        "colab": {
          "base_uri": "https://localhost:8080/"
        },
        "outputId": "f917e7ae-d400-40e0-b241-2536ad10c4c5"
      },
      "execution_count": 150,
      "outputs": [
        {
          "output_type": "execute_result",
          "data": {
            "text/plain": [
              "Filing Date              17/02/2022 19:21\n",
              "Ticker                               IMRA\n",
              "Insider Name                 Mott David M\n",
              "Title                                   7\n",
              "Trade Type                              1\n",
              "Price                                1.19\n",
              "Qty                                 45926\n",
              "Owned                               77752\n",
              "ΔOwn                                 1.44\n",
              "Value                               54673\n",
              "InsiderID                         1219871\n",
              "DiffDate                                2\n",
              "2w_MFI                          46.922022\n",
              "mcclellan_osillator                 -5.99\n",
              "mcclellan_osillator_s             -594.41\n",
              "Open                                  1.2\n",
              "Close                                1.23\n",
              "High                                 1.24\n",
              "Low                                  1.15\n",
              "Volume                             588200\n",
              "PriceCompared                    -0.03252\n",
              "AmountTrades                            1\n",
              "A                                       0\n",
              "E                                       0\n",
              "M                                       1\n",
              "D                                       0\n",
              "Year                                 2022\n",
              "Month                                   2\n",
              "Day                                    17\n",
              "Weekday                                 3\n",
              "DiffToStart                           707\n",
              "sharpRatio                      16.260157\n",
              "aggression                            0.0\n",
              "Y                                2.151218\n",
              "Name: 8, dtype: object"
            ]
          },
          "metadata": {},
          "execution_count": 150
        }
      ]
    },
    {
      "cell_type": "code",
      "source": [
        "current_ticker = yf.Ticker('IMRA')\n",
        "  #historical = current_ticker.history(start=create_datetime_obj(row) ,end=get_next_month_obj(row), interval=\"1d\")\n",
        " # max=historical['High'].max();\n",
        " # x=(max-row[\"Price\"])/row['Price']"
      ],
      "metadata": {
        "id": "sW2V6g21FK4O"
      },
      "execution_count": 151,
      "outputs": []
    },
    {
      "cell_type": "code",
      "source": [
        "history=current_ticker.history(start=create_datetime_obj(insiders_data_small.iloc[8])-timedelta(days=5) ,end=get_next_month_obj(insiders_data_small.iloc[8]), interval=\"1d\")"
      ],
      "metadata": {
        "id": "wa6WyXGhSWd8"
      },
      "execution_count": 152,
      "outputs": []
    },
    {
      "cell_type": "code",
      "source": [
        "x1=(history['High'].max()-insiders_data_small.iloc[8].Price)/insiders_data_small.iloc[8].Price\n",
        "print(\"x1=(\"+str(history['High'].max())+\"-\"+str(insiders_data_small.iloc[8].Price)+\")/\"+str(insiders_data_small.iloc[8].Price)+\"=\"+str(x1))"
      ],
      "metadata": {
        "colab": {
          "base_uri": "https://localhost:8080/"
        },
        "id": "z1qtT2IISeX5",
        "outputId": "5deeb7ff-b6f3-431c-b8f6-6bbbb9b9369b"
      },
      "execution_count": 156,
      "outputs": [
        {
          "output_type": "stream",
          "name": "stdout",
          "text": [
            "x1=(1.8700000047683716-1.19)/1.19=0.5714285754356064\n"
          ]
        }
      ]
    },
    {
      "cell_type": "code",
      "source": [
        "x2=(insiders_data_small.iloc[8].Price-history['Low'].min())/insiders_data_small.iloc[8].Price\n",
        "print(\"x2=(\"+str(history['Low'].min())+\"-\"+str(insiders_data_small.iloc[8].Price)+\")/\"+str(insiders_data_small.iloc[8].Price)+\"=\"+str(x2))"
      ],
      "metadata": {
        "colab": {
          "base_uri": "https://localhost:8080/"
        },
        "id": "DltGbmEDS-e0",
        "outputId": "45dc4b88-f545-46a6-c88f-dbd6b1c80ca3"
      },
      "execution_count": 160,
      "outputs": [
        {
          "output_type": "stream",
          "name": "stdout",
          "text": [
            "x2=(1.100000023841858-1.19)/1.19=0.07563023206566558\n"
          ]
        }
      ]
    },
    {
      "cell_type": "code",
      "source": [
        "x1/x2"
      ],
      "metadata": {
        "colab": {
          "base_uri": "https://localhost:8080/"
        },
        "id": "tbYr2uXJTDN7",
        "outputId": "49a8d759-b26e-484d-f1e9-52360f395c5a"
      },
      "execution_count": 161,
      "outputs": [
        {
          "output_type": "execute_result",
          "data": {
            "text/plain": [
              "7.555557610076701"
            ]
          },
          "metadata": {},
          "execution_count": 161
        }
      ]
    }
  ],
  "metadata": {
    "colab": {
      "provenance": [],
      "include_colab_link": true
    },
    "kernelspec": {
      "display_name": "Python 3",
      "name": "python3"
    },
    "language_info": {
      "name": "python"
    }
  },
  "nbformat": 4,
  "nbformat_minor": 0
}